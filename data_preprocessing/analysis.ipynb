{
 "cells": [
  {
   "cell_type": "code",
   "execution_count": 1,
   "metadata": {},
   "outputs": [],
   "source": [
    "import pandas as pd"
   ]
  },
  {
   "cell_type": "code",
   "execution_count": 2,
   "metadata": {},
   "outputs": [
    {
     "name": "stdout",
     "output_type": "stream",
     "text": [
      "<class 'pandas.core.frame.DataFrame'>\n",
      "RangeIndex: 301761 entries, 0 to 301760\n",
      "Data columns (total 36 columns):\n",
      " #   Column                    Non-Null Count   Dtype  \n",
      "---  ------                    --------------   -----  \n",
      " 0   DISTRICTNAME              301761 non-null  object \n",
      " 1   UNITNAME                  301761 non-null  object \n",
      " 2   Crime_No                  301761 non-null  int64  \n",
      " 3   Year                      301761 non-null  int64  \n",
      " 4   RI                        301761 non-null  int64  \n",
      " 5   Noofvehicle_involved      301761 non-null  int64  \n",
      " 6   Accident_Classification   301759 non-null  object \n",
      " 7   Accident_Spot             301760 non-null  object \n",
      " 8   Accident_Location         301758 non-null  object \n",
      " 9   Accident_SubLocation      301760 non-null  object \n",
      " 10  Accident_SpotB            176684 non-null  object \n",
      " 11  Main_Cause                301759 non-null  object \n",
      " 12  Hit_Run                   301758 non-null  object \n",
      " 13  Severity                  301759 non-null  object \n",
      " 14  Collision_Type            301760 non-null  object \n",
      " 15  Junction_Control          301760 non-null  object \n",
      " 16  Road_Character            301757 non-null  object \n",
      " 17  Road_Type                 301759 non-null  object \n",
      " 18  Surface_Type              301759 non-null  object \n",
      " 19  Surface_Condition         301760 non-null  object \n",
      " 20  Road_Condition            301758 non-null  object \n",
      " 21  Weather                   301760 non-null  object \n",
      " 22  Lane_Type                 62508 non-null   object \n",
      " 23  Road_Markings             30160 non-null   object \n",
      " 24  Spot_Conditions           53349 non-null   object \n",
      " 25  Side_Walk                 47057 non-null   object \n",
      " 26  RoadJunction              0 non-null       float64\n",
      " 27  Collision_TypeB           176686 non-null  object \n",
      " 28  Accident_Road             301638 non-null  object \n",
      " 29  Landmark_first            301193 non-null  object \n",
      " 30  landmark_second           45969 non-null   object \n",
      " 31  Distance_LandMark_First   301457 non-null  object \n",
      " 32  Distance_LandMark_Second  26866 non-null   object \n",
      " 33  Accident_Description      301616 non-null  object \n",
      " 34  Latitude                  301761 non-null  float64\n",
      " 35  Longitude                 301761 non-null  float64\n",
      "dtypes: float64(3), int64(4), object(29)\n",
      "memory usage: 82.9+ MB\n"
     ]
    }
   ],
   "source": [
    "df = pd.read_csv('AccidentReports.csv')\n",
    "df.info()"
   ]
  },
  {
   "cell_type": "code",
   "execution_count": 6,
   "metadata": {},
   "outputs": [
    {
     "data": {
      "text/plain": [
       "301761"
      ]
     },
     "execution_count": 6,
     "metadata": {},
     "output_type": "execute_result"
    }
   ],
   "source": [
    "df.to_sql('accidents', 'mysql+pymysql://root:@localhost:3306/ksp', if_exists='replace', index=False)"
   ]
  },
  {
   "cell_type": "code",
   "execution_count": 7,
   "metadata": {},
   "outputs": [
    {
     "name": "stdout",
     "output_type": "stream",
     "text": [
      "<class 'pandas.core.frame.DataFrame'>\n",
      "RangeIndex: 3023698 entries, 0 to 3023697\n",
      "Data columns (total 22 columns):\n",
      " #   Column            Dtype  \n",
      "---  ------            -----  \n",
      " 0   District_Name     object \n",
      " 1   UnitName          object \n",
      " 2   FIRNo             object \n",
      " 3   Year              int64  \n",
      " 4   Month             int64  \n",
      " 5   AccusedName       object \n",
      " 6   Person_Name       object \n",
      " 7   age               float64\n",
      " 8   Caste             object \n",
      " 9   Profession        object \n",
      " 10  Sex               object \n",
      " 11  PresentAddress    object \n",
      " 12  PresentCity       object \n",
      " 13  PresentState      object \n",
      " 14  PermanentAddress  object \n",
      " 15  PermanentCity     object \n",
      " 16  PermanentState    object \n",
      " 17  Nationality_Name  object \n",
      " 18  DOB               object \n",
      " 19  Person_No         object \n",
      " 20  Arr_ID            int64  \n",
      " 21  crime_no          int64  \n",
      "dtypes: float64(1), int64(4), object(17)\n",
      "memory usage: 507.5+ MB\n"
     ]
    },
    {
     "name": "stderr",
     "output_type": "stream",
     "text": [
      "C:\\Users\\Naveen\\AppData\\Local\\Temp\\ipykernel_19008\\3353228421.py:3: UserWarning: The provided table name 'AccusedData' is not found exactly as such in the database after writing the table, possibly due to case sensitivity issues. Consider using lower case table names.\n",
      "  df.to_sql('AccusedData', 'mysql+pymysql://root:@localhost:3306/ksp', if_exists='replace', index=False)\n"
     ]
    },
    {
     "data": {
      "text/plain": [
       "3023698"
      ]
     },
     "execution_count": 7,
     "metadata": {},
     "output_type": "execute_result"
    }
   ],
   "source": [
    "df = pd.read_csv('AccusedData.csv')\n",
    "df.info()\n",
    "df.to_sql('AccusedData', 'mysql+pymysql://root:@localhost:3306/ksp', if_exists='replace', index=False)"
   ]
  },
  {
   "cell_type": "code",
   "execution_count": 5,
   "metadata": {},
   "outputs": [
    {
     "name": "stdout",
     "output_type": "stream",
     "text": [
      "<class 'pandas.core.frame.DataFrame'>\n",
      "RangeIndex: 1527375 entries, 0 to 1527374\n",
      "Data columns (total 23 columns):\n",
      " #   Column               Non-Null Count    Dtype  \n",
      "---  ------               --------------    -----  \n",
      " 0   District_Name        1527375 non-null  object \n",
      " 1   UnitName             1527375 non-null  object \n",
      " 2   FIRNo                1527375 non-null  object \n",
      " 3   Year                 1527375 non-null  int64  \n",
      " 4   Month                1527375 non-null  int64  \n",
      " 5   Name                 1527374 non-null  object \n",
      " 6   age                  1527301 non-null  float64\n",
      " 7   Caste                1398985 non-null  object \n",
      " 8   Profession           1416454 non-null  object \n",
      " 9   Sex                  1526997 non-null  object \n",
      " 10  PresentAddress       1527375 non-null  object \n",
      " 11  PresentCity          1526214 non-null  object \n",
      " 12  PresentState         1526955 non-null  object \n",
      " 13  PermanentAddress     1527375 non-null  object \n",
      " 14  PermanentCity        1526214 non-null  object \n",
      " 15  PermanentState       1526955 non-null  object \n",
      " 16  Nationality_Name     1525885 non-null  object \n",
      " 17  DOB                  28695 non-null    object \n",
      " 18  Person_No            1527093 non-null  object \n",
      " 19  Crime_No             1527375 non-null  int64  \n",
      " 20  Arr_ID               1527375 non-null  int64  \n",
      " 21  Charge_Sheeted       1527375 non-null  int64  \n",
      " 22  Charge_Sheet_Number  1392208 non-null  float64\n",
      "dtypes: float64(2), int64(5), object(16)\n",
      "memory usage: 268.0+ MB\n"
     ]
    },
    {
     "data": {
      "text/plain": [
       "1527375"
      ]
     },
     "execution_count": 5,
     "metadata": {},
     "output_type": "execute_result"
    }
   ],
   "source": [
    "import pandas as pd\n",
    "df = pd.read_csv('ArrestPersonDetails.csv')\n",
    "df.info()\n",
    "df.to_sql('arrestpersondetails', 'mysql+pymysql://root:@localhost:3306/ksp', if_exists='replace', index=False)"
   ]
  },
  {
   "cell_type": "code",
   "execution_count": 6,
   "metadata": {},
   "outputs": [
    {
     "name": "stdout",
     "output_type": "stream",
     "text": [
      "<class 'pandas.core.frame.DataFrame'>\n",
      "RangeIndex: 1704041 entries, 0 to 1704040\n",
      "Data columns (total 14 columns):\n",
      " #   Column             Dtype  \n",
      "---  ------             -----  \n",
      " 0   District_Name      object \n",
      " 1   UnitName           object \n",
      " 2   FIRNo              object \n",
      " 3   RI                 int64  \n",
      " 4   Year               int64  \n",
      " 5   Month              int64  \n",
      " 6   FIR_Date           object \n",
      " 7   Report_Date        object \n",
      " 8   Final_Report_Date  object \n",
      " 9   Report_Type        object \n",
      " 10  FIR_ID             int64  \n",
      " 11  Unit_ID            int64  \n",
      " 12  Crime_No           int64  \n",
      " 13  FR_ID              float64\n",
      "dtypes: float64(1), int64(6), object(7)\n",
      "memory usage: 182.0+ MB\n"
     ]
    },
    {
     "data": {
      "text/plain": [
       "1704041"
      ]
     },
     "execution_count": 6,
     "metadata": {},
     "output_type": "execute_result"
    }
   ],
   "source": [
    "import pandas as pd\n",
    "df = pd.read_csv('ChargsheetedDetails.csv')\n",
    "df.info()\n",
    "df.to_sql('chargsheeteddetails', 'mysql+pymysql://root:@localhost:3306/ksp', if_exists='replace', index=False)"
   ]
  },
  {
   "cell_type": "code",
   "execution_count": 7,
   "metadata": {},
   "outputs": [
    {
     "name": "stdout",
     "output_type": "stream",
     "text": [
      "<class 'pandas.core.frame.DataFrame'>\n",
      "RangeIndex: 1696392 entries, 0 to 1696391\n",
      "Data columns (total 22 columns):\n",
      " #   Column            Dtype  \n",
      "---  ------            -----  \n",
      " 0   District_Name     object \n",
      " 1   UnitName          object \n",
      " 2   FIRNo             object \n",
      " 3   Year              int64  \n",
      " 4   Month             int64  \n",
      " 5   ComplainantName   object \n",
      " 6   Relation          object \n",
      " 7   RelationshipName  object \n",
      " 8   DateOfBirth       object \n",
      " 9   Age               int64  \n",
      " 10  Sex               object \n",
      " 11  Nationality       object \n",
      " 12  Occupation        object \n",
      " 13  Address           object \n",
      " 14  City              object \n",
      " 15  State             object \n",
      " 16  Pincode           float64\n",
      " 17  Caste             object \n",
      " 18  Religion          object \n",
      " 19  FIR_ID            int64  \n",
      " 20  Unit_ID           int64  \n",
      " 21  Complaint_ID      int64  \n",
      "dtypes: float64(1), int64(6), object(15)\n",
      "memory usage: 284.7+ MB\n"
     ]
    },
    {
     "data": {
      "text/plain": [
       "1696392"
      ]
     },
     "execution_count": 7,
     "metadata": {},
     "output_type": "execute_result"
    }
   ],
   "source": [
    "import pandas as pd\n",
    "df = pd.read_csv('ComplainantDetailsData.csv')\n",
    "df.info()\n",
    "df.to_sql('complainantdetailsdata', 'mysql+pymysql://root:@localhost:3306/ksp', if_exists='replace', index=False)"
   ]
  },
  {
   "cell_type": "code",
   "execution_count": 8,
   "metadata": {},
   "outputs": [
    {
     "name": "stderr",
     "output_type": "stream",
     "text": [
      "C:\\Users\\Naveen\\AppData\\Local\\Temp\\ipykernel_22236\\803169504.py:2: DtypeWarning: Columns (19,20) have mixed types. Specify dtype option on import or set low_memory=False.\n",
      "  df = pd.read_csv('FIR_Details_Data.csv')\n"
     ]
    },
    {
     "name": "stdout",
     "output_type": "stream",
     "text": [
      "<class 'pandas.core.frame.DataFrame'>\n",
      "RangeIndex: 1694191 entries, 0 to 1694190\n",
      "Data columns (total 41 columns):\n",
      " #   Column                       Dtype  \n",
      "---  ------                       -----  \n",
      " 0   District_Name                object \n",
      " 1   UnitName                     object \n",
      " 2   FIRNo                        object \n",
      " 3   RI                           int64  \n",
      " 4   Year                         int64  \n",
      " 5   Month                        int64  \n",
      " 6   Offence_From_Date            object \n",
      " 7   Offence_To_Date              object \n",
      " 8   FIR_Reg_DateTime             object \n",
      " 9   FIR_Date                     object \n",
      " 10  FIR Type                     object \n",
      " 11  FIR_Stage                    object \n",
      " 12  Complaint_Mode               object \n",
      " 13  CrimeGroup_Name              object \n",
      " 14  CrimeHead_Name               object \n",
      " 15  Latitude                     float64\n",
      " 16  Longitude                    float64\n",
      " 17  ActSection                   object \n",
      " 18  IOName                       object \n",
      " 19  KGID                         object \n",
      " 20  IOAssigned_Date              object \n",
      " 21  Internal_IO                  int64  \n",
      " 22  Place of Offence             object \n",
      " 23  Distance from PS             object \n",
      " 24  Beat_Name                    object \n",
      " 25  Village_Area_Name            object \n",
      " 26  Male                         int64  \n",
      " 27  Female                       int64  \n",
      " 28  Boy                          int64  \n",
      " 29  Girl                         int64  \n",
      " 30  Age 0                        int64  \n",
      " 31  VICTIM COUNT                 int64  \n",
      " 32  Accused Count                int64  \n",
      " 33  Arrested Male                int64  \n",
      " 34  Arrested Female              int64  \n",
      " 35  Arrested Count\tNo.           int64  \n",
      " 36  Accused_ChargeSheeted Count  int64  \n",
      " 37  Conviction Count             int64  \n",
      " 38  FIR_ID                       int64  \n",
      " 39  Unit_ID                      int64  \n",
      " 40  Crime_No                     int64  \n",
      "dtypes: float64(2), int64(19), object(20)\n",
      "memory usage: 530.0+ MB\n"
     ]
    },
    {
     "data": {
      "text/plain": [
       "1694191"
      ]
     },
     "execution_count": 8,
     "metadata": {},
     "output_type": "execute_result"
    }
   ],
   "source": [
    "import pandas as pd\n",
    "df = pd.read_csv('FIR_Details_Data.csv')\n",
    "df.info()\n",
    "df.to_sql('fir_details_data', 'mysql+pymysql://root:@localhost:3306/ksp', if_exists='replace', index=False)"
   ]
  },
  {
   "cell_type": "code",
   "execution_count": 9,
   "metadata": {},
   "outputs": [
    {
     "name": "stderr",
     "output_type": "stream",
     "text": [
      "C:\\Users\\Naveen\\AppData\\Local\\Temp\\ipykernel_22236\\624466247.py:2: DtypeWarning: Columns (8,20) have mixed types. Specify dtype option on import or set low_memory=False.\n",
      "  df = pd.read_csv('MOBsData.csv')\n"
     ]
    },
    {
     "name": "stdout",
     "output_type": "stream",
     "text": [
      "<class 'pandas.core.frame.DataFrame'>\n",
      "RangeIndex: 157569 entries, 0 to 157568\n",
      "Data columns (total 32 columns):\n",
      " #   Column               Non-Null Count   Dtype  \n",
      "---  ------               --------------   -----  \n",
      " 0   District_Name        157569 non-null  object \n",
      " 1   Unit_Name            157569 non-null  object \n",
      " 2   Name                 157569 non-null  object \n",
      " 3   Person_No            157501 non-null  object \n",
      " 4   MOB_Number           157562 non-null  object \n",
      " 5   MobOpenDate          157068 non-null  object \n",
      " 6   MOB_Open_Year        157068 non-null  float64\n",
      " 7   Arrested_By          31985 non-null   object \n",
      " 8   KGID                 31985 non-null   object \n",
      " 9   Caste                96660 non-null   object \n",
      " 10  Grading              157502 non-null  float64\n",
      " 11  Occupation           117717 non-null  object \n",
      " 12  PS_Native            81151 non-null   object \n",
      " 13  PS_District          139332 non-null  object \n",
      " 14  Offender_Class       157502 non-null  float64\n",
      " 15  Crime_No             31627 non-null   object \n",
      " 16  ActSection           152369 non-null  object \n",
      " 17  Brief_Fact           109203 non-null  object \n",
      " 18  Present_WhereAbouts  156508 non-null  object \n",
      " 19  Gang_Strength        157569 non-null  int64  \n",
      " 20  Ident_Officer        1 non-null       object \n",
      " 21  officer_rank         69206 non-null   object \n",
      " 22  Crime_Group1         155213 non-null  object \n",
      " 23  Crime_Head2          154095 non-null  object \n",
      " 24  class                129028 non-null  object \n",
      " 25  AGE                  152231 non-null  float64\n",
      " 26  PresentAge           157569 non-null  object \n",
      " 27  DOB                  13067 non-null   object \n",
      " 28  Address              155395 non-null  object \n",
      " 29  SEX                  121039 non-null  object \n",
      " 30  Locality             157569 non-null  object \n",
      " 31  LastUpdatedDate      155224 non-null  object \n",
      "dtypes: float64(4), int64(1), object(27)\n",
      "memory usage: 38.5+ MB\n"
     ]
    },
    {
     "data": {
      "text/plain": [
       "157569"
      ]
     },
     "execution_count": 9,
     "metadata": {},
     "output_type": "execute_result"
    }
   ],
   "source": [
    "import pandas as pd\n",
    "df = pd.read_csv('MOBsData.csv')\n",
    "df.info()\n",
    "df.to_sql('mobsdata', 'mysql+pymysql://root:@localhost:3306/ksp', if_exists='replace', index=False)"
   ]
  },
  {
   "cell_type": "code",
   "execution_count": 10,
   "metadata": {},
   "outputs": [
    {
     "name": "stdout",
     "output_type": "stream",
     "text": [
      "<class 'pandas.core.frame.DataFrame'>\n",
      "RangeIndex: 44561 entries, 0 to 44560\n",
      "Data columns (total 16 columns):\n",
      " #   Column                        Non-Null Count  Dtype \n",
      "---  ------                        --------------  ----- \n",
      " 0   District_Name                 44561 non-null  object\n",
      " 1   Unit_Name                     44561 non-null  object\n",
      " 2   Rowdy_Sheet_No                44561 non-null  int64 \n",
      " 3   Name                          44561 non-null  object\n",
      " 4   AliasName                     44561 non-null  object\n",
      " 5   RS_Open_Date                  44561 non-null  object\n",
      " 6   Rowdy_Classification_Details  25265 non-null  object\n",
      " 7   Activities_Description        25758 non-null  object\n",
      " 8   Rowdy_Category                44561 non-null  int64 \n",
      " 9   PrevCase_Details              32045 non-null  object\n",
      " 10  Address                       44559 non-null  object\n",
      " 11  Age                           44561 non-null  int64 \n",
      " 12  Father_Name                   44561 non-null  object\n",
      " 13  Source_Of_Income              5175 non-null   object\n",
      " 14  LastUpdatedDate               44370 non-null  object\n",
      " 15  PresentWhereabout             38794 non-null  object\n",
      "dtypes: int64(3), object(13)\n",
      "memory usage: 5.4+ MB\n"
     ]
    },
    {
     "data": {
      "text/plain": [
       "44561"
      ]
     },
     "execution_count": 10,
     "metadata": {},
     "output_type": "execute_result"
    }
   ],
   "source": [
    "import pandas as pd\n",
    "df = pd.read_csv('RowdySheeterDetails.csv')\n",
    "df.info()\n",
    "df.to_sql('rowdysheeterdetails', 'mysql+pymysql://root:@localhost:3306/ksp', if_exists='replace', index=False)"
   ]
  },
  {
   "cell_type": "code",
   "execution_count": 11,
   "metadata": {},
   "outputs": [
    {
     "name": "stdout",
     "output_type": "stream",
     "text": [
      "<class 'pandas.core.frame.DataFrame'>\n",
      "RangeIndex: 1465783 entries, 0 to 1465782\n",
      "Data columns (total 24 columns):\n",
      " #   Column            Non-Null Count    Dtype \n",
      "---  ------            --------------    ----- \n",
      " 0   District_Name     1465783 non-null  object\n",
      " 1   UnitName          1465783 non-null  object\n",
      " 2   FIRNo             1465783 non-null  object\n",
      " 3   Year              1465783 non-null  int64 \n",
      " 4   Month             1465783 non-null  int64 \n",
      " 5   VictimName        1464689 non-null  object\n",
      " 6   age               1465783 non-null  int64 \n",
      " 7   Caste             1277136 non-null  object\n",
      " 8   Profession        1285055 non-null  object\n",
      " 9   Sex               1465556 non-null  object\n",
      " 10  PresentAddress    1465783 non-null  object\n",
      " 11  PresentCity       1465678 non-null  object\n",
      " 12  PresentState      1464835 non-null  object\n",
      " 13  PermanentAddress  1465783 non-null  object\n",
      " 14  PermanentCity     1465678 non-null  object\n",
      " 15  PermanentState    1464835 non-null  object\n",
      " 16  Nationality_Name  1465779 non-null  object\n",
      " 17  DOB               44059 non-null    object\n",
      " 18  PersonType        1465783 non-null  object\n",
      " 19  InjuryType        1009647 non-null  object\n",
      " 20  Injury_Nature     27361 non-null    object\n",
      " 21  Crime_No          1465783 non-null  int64 \n",
      " 22  Arr_ID            1465783 non-null  int64 \n",
      " 23  Victim_ID         1465783 non-null  int64 \n",
      "dtypes: int64(6), object(18)\n",
      "memory usage: 268.4+ MB\n"
     ]
    },
    {
     "data": {
      "text/plain": [
       "1465783"
      ]
     },
     "execution_count": 11,
     "metadata": {},
     "output_type": "execute_result"
    }
   ],
   "source": [
    "import pandas as pd\n",
    "df.info()\n",
    "df.to_sql('victiminfodetails', 'mysql+pymysql://root:@localhost:3306/ksp', if_exists='replace', index=False)"
   ]
  },
  {
   "cell_type": "code",
   "execution_count": null,
   "metadata": {},
   "outputs": [],
   "source": [
    "op = {\n",
    "    'accuseddata': ['District_Name','AccusedName','Person_Name','age','Caste','Profession','Sex','PresentAddress','PresentCity','PresentState','PermanentAddress','PermanentCity','DOB'],\n",
    "    'arrestpersondetails': ['District_Name','Name','age','Caste','Profession','PresentAddress','PresentCity','PresentState','Nationality_Name','DOB',]\n",
    "    'chargsheeteddetails': ['District_Name','Year','Month','FIR_Date','Report_Date','Report_Type'],\n",
    "    'complainantdetailsdata': ['District_Name','ComplainantName','Relation','RelationshipName','DateOfBirth','Age','Sex','Nationality','Occupation','Address','Religion','Caste'],\n",
    "    'fir_details_data': ['District_Name','Year','Month','Offence_From_Date','Offence_To_Date','Complaint_Mode','CrimeGroup_Name','CrimeHead_Name','Beat_Name','VICTIM COUNT','Accused Count'],\n",
    "    'mobsdata': ['District_Name','Name','MOB_Number','MobOpenDate','MOB_Open_Year','Caste','Grading','Occupation','AGE','PresentAge','DOB','Address'],\n",
    "    'rowdysheeterdetails': ['District_Name','Rowdy_Sheet_No','Name','AliasName','Rowdy_Classification_Details','Rowdy_Category','Address','Age','Father_Name','Source_Of_Income','PresentWhereabout'],\n",
    "    'victiminfodetails': ['District_Name','Year','Month','VictimName','age','Caste','Profession','Sex','PresentAddress','PresentCity','PresentState','PermanentAddress','PermanentCity','Nationality_Name','DOB','PersonType','InjuryType','Injury_Nature'],\n",
    "}"
   ]
  }
 ],
 "metadata": {
  "kernelspec": {
   "display_name": ".venv",
   "language": "python",
   "name": "python3"
  },
  "language_info": {
   "codemirror_mode": {
    "name": "ipython",
    "version": 3
   },
   "file_extension": ".py",
   "mimetype": "text/x-python",
   "name": "python",
   "nbconvert_exporter": "python",
   "pygments_lexer": "ipython3",
   "version": "3.12.2"
  }
 },
 "nbformat": 4,
 "nbformat_minor": 2
}
